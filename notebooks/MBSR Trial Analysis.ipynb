{
 "cells": [
  {
   "cell_type": "markdown",
   "metadata": {},
   "source": [
    "Outcome variables:\n",
    "\n",
    "- depression\n",
    "- anxiety\n",
    "- parenting stress\n",
    "\n",
    "Confounders\n",
    "\n",
    "- mental health treatment\n",
    "- Child level variables\n",
    "    - expressive language\n",
    "    - ADOS\n",
    "- DAS (relationships)\n",
    "\n",
    "Start with time 1 versus time 3\n",
    "- finished at least 10 sessions (`finish_tx`)\n",
    "\n",
    "Similar age and location of kids"
   ]
  },
  {
   "cell_type": "code",
   "execution_count": 1,
   "metadata": {
    "scrolled": true
   },
   "outputs": [
    {
     "name": "stderr",
     "output_type": "stream",
     "text": [
      "/Users/fonnescj/anaconda3/envs/dev/lib/python3.6/site-packages/h5py/__init__.py:36: FutureWarning: Conversion of the second argument of issubdtype from `float` to `np.floating` is deprecated. In future, it will be treated as `np.float64 == np.dtype(float).type`.\n",
      "  from ._conv import register_converters as _register_converters\n"
     ]
    }
   ],
   "source": [
    "%matplotlib inline\n",
    "import numpy as np\n",
    "import pandas as pd\n",
    "import pymc3 as pm\n",
    "import matplotlib.pyplot as plt\n",
    "import seaborn as sns\n",
    "\n",
    "import theano.tensor as tt\n",
    "from theano import shared\n",
    "\n",
    "sns.set(context='notebook', style='ticks')"
   ]
  },
  {
   "cell_type": "code",
   "execution_count": 2,
   "metadata": {},
   "outputs": [
    {
     "data": {
      "text/html": [
       "<div>\n",
       "<style scoped>\n",
       "    .dataframe tbody tr th:only-of-type {\n",
       "        vertical-align: middle;\n",
       "    }\n",
       "\n",
       "    .dataframe tbody tr th {\n",
       "        vertical-align: top;\n",
       "    }\n",
       "\n",
       "    .dataframe thead th {\n",
       "        text-align: right;\n",
       "    }\n",
       "</style>\n",
       "<table border=\"1\" class=\"dataframe\">\n",
       "  <thead>\n",
       "    <tr style=\"text-align: right;\">\n",
       "      <th></th>\n",
       "      <th>finish_tx</th>\n",
       "      <th>parentfinish_t6</th>\n",
       "      <th>childfinish_t6</th>\n",
       "      <th>child_dob</th>\n",
       "      <th>ados_date</th>\n",
       "      <th>age_ados</th>\n",
       "      <th>ados_module</th>\n",
       "      <th>ados_new_algorithm</th>\n",
       "      <th>ados_severity</th>\n",
       "      <th>ados_concern</th>\n",
       "      <th>...</th>\n",
       "      <th>DescribeT5</th>\n",
       "      <th>AwareT5</th>\n",
       "      <th>NonjudgeT5</th>\n",
       "      <th>NonreactT5</th>\n",
       "      <th>FFMQT6</th>\n",
       "      <th>ObserveT6</th>\n",
       "      <th>DescribeT6</th>\n",
       "      <th>AwareT6</th>\n",
       "      <th>NonjudgeT6</th>\n",
       "      <th>NonreactT6</th>\n",
       "    </tr>\n",
       "    <tr>\n",
       "      <th>study_id</th>\n",
       "      <th></th>\n",
       "      <th></th>\n",
       "      <th></th>\n",
       "      <th></th>\n",
       "      <th></th>\n",
       "      <th></th>\n",
       "      <th></th>\n",
       "      <th></th>\n",
       "      <th></th>\n",
       "      <th></th>\n",
       "      <th></th>\n",
       "      <th></th>\n",
       "      <th></th>\n",
       "      <th></th>\n",
       "      <th></th>\n",
       "      <th></th>\n",
       "      <th></th>\n",
       "      <th></th>\n",
       "      <th></th>\n",
       "      <th></th>\n",
       "      <th></th>\n",
       "    </tr>\n",
       "  </thead>\n",
       "  <tbody>\n",
       "    <tr>\n",
       "      <th>59</th>\n",
       "      <td>1</td>\n",
       "      <td>1.0</td>\n",
       "      <td>1</td>\n",
       "      <td>2015-05-07</td>\n",
       "      <td>2017-04-04</td>\n",
       "      <td>1.91</td>\n",
       "      <td>3.0</td>\n",
       "      <td>17.0</td>\n",
       "      <td>NaN</td>\n",
       "      <td>3.0</td>\n",
       "      <td>...</td>\n",
       "      <td>NaN</td>\n",
       "      <td>NaN</td>\n",
       "      <td>NaN</td>\n",
       "      <td>NaN</td>\n",
       "      <td>126.0</td>\n",
       "      <td>16.0</td>\n",
       "      <td>33.0</td>\n",
       "      <td>28.0</td>\n",
       "      <td>29.0</td>\n",
       "      <td>20.0</td>\n",
       "    </tr>\n",
       "    <tr>\n",
       "      <th>60</th>\n",
       "      <td>1</td>\n",
       "      <td>0.0</td>\n",
       "      <td>1</td>\n",
       "      <td>2015-02-17</td>\n",
       "      <td>2017-04-21</td>\n",
       "      <td>2.17</td>\n",
       "      <td>3.0</td>\n",
       "      <td>26.0</td>\n",
       "      <td>NaN</td>\n",
       "      <td>3.0</td>\n",
       "      <td>...</td>\n",
       "      <td>26.0</td>\n",
       "      <td>33.0</td>\n",
       "      <td>28.0</td>\n",
       "      <td>24.0</td>\n",
       "      <td>NaN</td>\n",
       "      <td>NaN</td>\n",
       "      <td>NaN</td>\n",
       "      <td>NaN</td>\n",
       "      <td>NaN</td>\n",
       "      <td>NaN</td>\n",
       "    </tr>\n",
       "    <tr>\n",
       "      <th>61</th>\n",
       "      <td>0</td>\n",
       "      <td>0.0</td>\n",
       "      <td>0</td>\n",
       "      <td>2014-10-20</td>\n",
       "      <td>2017-04-22</td>\n",
       "      <td>2.51</td>\n",
       "      <td>3.0</td>\n",
       "      <td>17.0</td>\n",
       "      <td>NaN</td>\n",
       "      <td>3.0</td>\n",
       "      <td>...</td>\n",
       "      <td>NaN</td>\n",
       "      <td>NaN</td>\n",
       "      <td>NaN</td>\n",
       "      <td>NaN</td>\n",
       "      <td>NaN</td>\n",
       "      <td>NaN</td>\n",
       "      <td>NaN</td>\n",
       "      <td>NaN</td>\n",
       "      <td>NaN</td>\n",
       "      <td>NaN</td>\n",
       "    </tr>\n",
       "    <tr>\n",
       "      <th>62</th>\n",
       "      <td>1</td>\n",
       "      <td>1.0</td>\n",
       "      <td>1</td>\n",
       "      <td>2014-12-06</td>\n",
       "      <td>2017-05-22</td>\n",
       "      <td>2.46</td>\n",
       "      <td>3.0</td>\n",
       "      <td>18.0</td>\n",
       "      <td>NaN</td>\n",
       "      <td>3.0</td>\n",
       "      <td>...</td>\n",
       "      <td>25.0</td>\n",
       "      <td>32.0</td>\n",
       "      <td>32.0</td>\n",
       "      <td>14.0</td>\n",
       "      <td>117.0</td>\n",
       "      <td>19.0</td>\n",
       "      <td>21.0</td>\n",
       "      <td>28.0</td>\n",
       "      <td>33.0</td>\n",
       "      <td>16.0</td>\n",
       "    </tr>\n",
       "    <tr>\n",
       "      <th>63</th>\n",
       "      <td>1</td>\n",
       "      <td>1.0</td>\n",
       "      <td>1</td>\n",
       "      <td>2015-03-19</td>\n",
       "      <td>2017-06-26</td>\n",
       "      <td>2.27</td>\n",
       "      <td>3.0</td>\n",
       "      <td>22.0</td>\n",
       "      <td>NaN</td>\n",
       "      <td>3.0</td>\n",
       "      <td>...</td>\n",
       "      <td>27.0</td>\n",
       "      <td>32.0</td>\n",
       "      <td>33.0</td>\n",
       "      <td>17.0</td>\n",
       "      <td>131.0</td>\n",
       "      <td>29.0</td>\n",
       "      <td>24.0</td>\n",
       "      <td>31.0</td>\n",
       "      <td>32.0</td>\n",
       "      <td>15.0</td>\n",
       "    </tr>\n",
       "  </tbody>\n",
       "</table>\n",
       "<p>5 rows × 2179 columns</p>\n",
       "</div>"
      ],
      "text/plain": [
       "          finish_tx  parentfinish_t6  childfinish_t6  child_dob  ados_date  \\\n",
       "study_id                                                                     \n",
       "59                1              1.0               1 2015-05-07 2017-04-04   \n",
       "60                1              0.0               1 2015-02-17 2017-04-21   \n",
       "61                0              0.0               0 2014-10-20 2017-04-22   \n",
       "62                1              1.0               1 2014-12-06 2017-05-22   \n",
       "63                1              1.0               1 2015-03-19 2017-06-26   \n",
       "\n",
       "          age_ados  ados_module  ados_new_algorithm  ados_severity  \\\n",
       "study_id                                                             \n",
       "59            1.91          3.0                17.0            NaN   \n",
       "60            2.17          3.0                26.0            NaN   \n",
       "61            2.51          3.0                17.0            NaN   \n",
       "62            2.46          3.0                18.0            NaN   \n",
       "63            2.27          3.0                22.0            NaN   \n",
       "\n",
       "          ados_concern     ...      DescribeT5  AwareT5  NonjudgeT5  \\\n",
       "study_id                   ...                                        \n",
       "59                 3.0     ...             NaN      NaN         NaN   \n",
       "60                 3.0     ...            26.0     33.0        28.0   \n",
       "61                 3.0     ...             NaN      NaN         NaN   \n",
       "62                 3.0     ...            25.0     32.0        32.0   \n",
       "63                 3.0     ...            27.0     32.0        33.0   \n",
       "\n",
       "          NonreactT5  FFMQT6  ObserveT6  DescribeT6  AwareT6  NonjudgeT6  \\\n",
       "study_id                                                                   \n",
       "59               NaN   126.0       16.0        33.0     28.0        29.0   \n",
       "60              24.0     NaN        NaN         NaN      NaN         NaN   \n",
       "61               NaN     NaN        NaN         NaN      NaN         NaN   \n",
       "62              14.0   117.0       19.0        21.0     28.0        33.0   \n",
       "63              17.0   131.0       29.0        24.0     31.0        32.0   \n",
       "\n",
       "          NonreactT6  \n",
       "study_id              \n",
       "59              20.0  \n",
       "60               NaN  \n",
       "61               NaN  \n",
       "62              16.0  \n",
       "63              15.0  \n",
       "\n",
       "[5 rows x 2179 columns]"
      ]
     },
     "execution_count": 2,
     "metadata": {},
     "output_type": "execute_result"
    }
   ],
   "source": [
    "mbsr_raw = pd.read_csv('../data/MBSR Data Set 3-28-18 for analysis.csv', index_col=0, na_values=[' '],\n",
    "                       parse_dates=['child_dob', 'ados_date', 'startdate'])\n",
    "mbsr_raw.tail()"
   ]
  },
  {
   "cell_type": "markdown",
   "metadata": {},
   "source": [
    "Find the first column label for outcomes"
   ]
  },
  {
   "cell_type": "code",
   "execution_count": 3,
   "metadata": {},
   "outputs": [],
   "source": [
    "outcome_start = np.argwhere(mbsr_raw.columns=='cbcl1t6').squeeze()"
   ]
  },
  {
   "cell_type": "markdown",
   "metadata": {},
   "source": [
    "Extract columns to be used in analysis"
   ]
  },
  {
   "cell_type": "code",
   "execution_count": 4,
   "metadata": {},
   "outputs": [
    {
     "data": {
      "text/plain": [
       "[]"
      ]
     },
     "execution_count": 4,
     "metadata": {},
     "output_type": "execute_result"
    }
   ],
   "source": [
    "mbsr_raw.columns[mbsr_raw.columns.str.contains('str')].tolist()"
   ]
  },
  {
   "cell_type": "code",
   "execution_count": 5,
   "metadata": {},
   "outputs": [
    {
     "data": {
      "text/html": [
       "<div>\n",
       "<style scoped>\n",
       "    .dataframe tbody tr th:only-of-type {\n",
       "        vertical-align: middle;\n",
       "    }\n",
       "\n",
       "    .dataframe tbody tr th {\n",
       "        vertical-align: top;\n",
       "    }\n",
       "\n",
       "    .dataframe thead th {\n",
       "        text-align: right;\n",
       "    }\n",
       "</style>\n",
       "<table border=\"1\" class=\"dataframe\">\n",
       "  <thead>\n",
       "    <tr style=\"text-align: right;\">\n",
       "      <th></th>\n",
       "      <th>finish_tx</th>\n",
       "      <th>age_ados</th>\n",
       "      <th>ados_new_algorithm</th>\n",
       "      <th>group_</th>\n",
       "      <th>startdate</th>\n",
       "      <th>age_begin</th>\n",
       "      <th>expressiveraw</th>\n",
       "      <th>dq7f</th>\n",
       "      <th>cbcl1t6</th>\n",
       "      <th>cbcl2t6</th>\n",
       "      <th>...</th>\n",
       "      <th>DescribeT5</th>\n",
       "      <th>AwareT5</th>\n",
       "      <th>NonjudgeT5</th>\n",
       "      <th>NonreactT5</th>\n",
       "      <th>FFMQT6</th>\n",
       "      <th>ObserveT6</th>\n",
       "      <th>DescribeT6</th>\n",
       "      <th>AwareT6</th>\n",
       "      <th>NonjudgeT6</th>\n",
       "      <th>NonreactT6</th>\n",
       "    </tr>\n",
       "    <tr>\n",
       "      <th>study_id</th>\n",
       "      <th></th>\n",
       "      <th></th>\n",
       "      <th></th>\n",
       "      <th></th>\n",
       "      <th></th>\n",
       "      <th></th>\n",
       "      <th></th>\n",
       "      <th></th>\n",
       "      <th></th>\n",
       "      <th></th>\n",
       "      <th></th>\n",
       "      <th></th>\n",
       "      <th></th>\n",
       "      <th></th>\n",
       "      <th></th>\n",
       "      <th></th>\n",
       "      <th></th>\n",
       "      <th></th>\n",
       "      <th></th>\n",
       "      <th></th>\n",
       "      <th></th>\n",
       "    </tr>\n",
       "  </thead>\n",
       "  <tbody>\n",
       "    <tr>\n",
       "      <th>1</th>\n",
       "      <td>1</td>\n",
       "      <td>2.46</td>\n",
       "      <td>14.0</td>\n",
       "      <td>1</td>\n",
       "      <td>2015-04-02</td>\n",
       "      <td>2.52</td>\n",
       "      <td>19.0</td>\n",
       "      <td>NaN</td>\n",
       "      <td>0.0</td>\n",
       "      <td>50.0</td>\n",
       "      <td>...</td>\n",
       "      <td>31.0</td>\n",
       "      <td>39.0</td>\n",
       "      <td>29.0</td>\n",
       "      <td>17.0</td>\n",
       "      <td>133.0</td>\n",
       "      <td>16.0</td>\n",
       "      <td>31.0</td>\n",
       "      <td>40.0</td>\n",
       "      <td>31.0</td>\n",
       "      <td>15.0</td>\n",
       "    </tr>\n",
       "    <tr>\n",
       "      <th>2</th>\n",
       "      <td>1</td>\n",
       "      <td>2.94</td>\n",
       "      <td>12.0</td>\n",
       "      <td>1</td>\n",
       "      <td>2015-04-02</td>\n",
       "      <td>2.52</td>\n",
       "      <td>47.0</td>\n",
       "      <td>NaN</td>\n",
       "      <td>1.0</td>\n",
       "      <td>50.0</td>\n",
       "      <td>...</td>\n",
       "      <td>37.0</td>\n",
       "      <td>32.0</td>\n",
       "      <td>36.0</td>\n",
       "      <td>20.0</td>\n",
       "      <td>NaN</td>\n",
       "      <td>16.0</td>\n",
       "      <td>36.0</td>\n",
       "      <td>34.0</td>\n",
       "      <td>NaN</td>\n",
       "      <td>16.0</td>\n",
       "    </tr>\n",
       "    <tr>\n",
       "      <th>3</th>\n",
       "      <td>1</td>\n",
       "      <td>2.82</td>\n",
       "      <td>24.0</td>\n",
       "      <td>0</td>\n",
       "      <td>2015-04-02</td>\n",
       "      <td>2.86</td>\n",
       "      <td>34.0</td>\n",
       "      <td>NaN</td>\n",
       "      <td>3.0</td>\n",
       "      <td>55.0</td>\n",
       "      <td>...</td>\n",
       "      <td>25.0</td>\n",
       "      <td>32.0</td>\n",
       "      <td>36.0</td>\n",
       "      <td>20.0</td>\n",
       "      <td>126.0</td>\n",
       "      <td>12.0</td>\n",
       "      <td>21.0</td>\n",
       "      <td>31.0</td>\n",
       "      <td>36.0</td>\n",
       "      <td>26.0</td>\n",
       "    </tr>\n",
       "    <tr>\n",
       "      <th>4</th>\n",
       "      <td>1</td>\n",
       "      <td>2.49</td>\n",
       "      <td>24.0</td>\n",
       "      <td>1</td>\n",
       "      <td>2015-05-01</td>\n",
       "      <td>2.57</td>\n",
       "      <td>13.0</td>\n",
       "      <td>NaN</td>\n",
       "      <td>1.0</td>\n",
       "      <td>50.0</td>\n",
       "      <td>...</td>\n",
       "      <td>35.0</td>\n",
       "      <td>40.0</td>\n",
       "      <td>36.0</td>\n",
       "      <td>21.0</td>\n",
       "      <td>165.0</td>\n",
       "      <td>30.0</td>\n",
       "      <td>35.0</td>\n",
       "      <td>40.0</td>\n",
       "      <td>35.0</td>\n",
       "      <td>25.0</td>\n",
       "    </tr>\n",
       "    <tr>\n",
       "      <th>5</th>\n",
       "      <td>1</td>\n",
       "      <td>2.52</td>\n",
       "      <td>20.0</td>\n",
       "      <td>1</td>\n",
       "      <td>2015-05-08</td>\n",
       "      <td>2.55</td>\n",
       "      <td>12.0</td>\n",
       "      <td>NaN</td>\n",
       "      <td>2.0</td>\n",
       "      <td>51.0</td>\n",
       "      <td>...</td>\n",
       "      <td>22.0</td>\n",
       "      <td>32.0</td>\n",
       "      <td>31.0</td>\n",
       "      <td>13.0</td>\n",
       "      <td>122.0</td>\n",
       "      <td>22.0</td>\n",
       "      <td>22.0</td>\n",
       "      <td>33.0</td>\n",
       "      <td>32.0</td>\n",
       "      <td>13.0</td>\n",
       "    </tr>\n",
       "  </tbody>\n",
       "</table>\n",
       "<p>5 rows × 153 columns</p>\n",
       "</div>"
      ],
      "text/plain": [
       "          finish_tx  age_ados  ados_new_algorithm  group_  startdate  \\\n",
       "study_id                                                               \n",
       "1                 1      2.46                14.0       1 2015-04-02   \n",
       "2                 1      2.94                12.0       1 2015-04-02   \n",
       "3                 1      2.82                24.0       0 2015-04-02   \n",
       "4                 1      2.49                24.0       1 2015-05-01   \n",
       "5                 1      2.52                20.0       1 2015-05-08   \n",
       "\n",
       "          age_begin  expressiveraw dq7f  cbcl1t6  cbcl2t6     ...      \\\n",
       "study_id                                                      ...       \n",
       "1              2.52           19.0  NaN      0.0     50.0     ...       \n",
       "2              2.52           47.0  NaN      1.0     50.0     ...       \n",
       "3              2.86           34.0  NaN      3.0     55.0     ...       \n",
       "4              2.57           13.0  NaN      1.0     50.0     ...       \n",
       "5              2.55           12.0  NaN      2.0     51.0     ...       \n",
       "\n",
       "          DescribeT5  AwareT5  NonjudgeT5  NonreactT5  FFMQT6  ObserveT6  \\\n",
       "study_id                                                                   \n",
       "1               31.0     39.0        29.0        17.0   133.0       16.0   \n",
       "2               37.0     32.0        36.0        20.0     NaN       16.0   \n",
       "3               25.0     32.0        36.0        20.0   126.0       12.0   \n",
       "4               35.0     40.0        36.0        21.0   165.0       30.0   \n",
       "5               22.0     32.0        31.0        13.0   122.0       22.0   \n",
       "\n",
       "          DescribeT6  AwareT6  NonjudgeT6  NonreactT6  \n",
       "study_id                                               \n",
       "1               31.0     40.0        31.0        15.0  \n",
       "2               36.0     34.0         NaN        16.0  \n",
       "3               21.0     31.0        36.0        26.0  \n",
       "4               35.0     40.0        35.0        25.0  \n",
       "5               22.0     33.0        32.0        13.0  \n",
       "\n",
       "[5 rows x 153 columns]"
      ]
     },
     "execution_count": 5,
     "metadata": {},
     "output_type": "execute_result"
    }
   ],
   "source": [
    "columns_to_keep = (['finish_tx', 'age_ados', 'ados_new_algorithm', 'group_', \n",
    "                    'startdate', 'age_begin', 'expressiveraw', 'dq7f'] \n",
    "                   + mbsr_raw.columns[outcome_start:].tolist())\n",
    "mbsr_data = mbsr_raw[columns_to_keep].query('finish_tx==1').copy()\n",
    "mbsr_data.head()"
   ]
  },
  {
   "cell_type": "code",
   "execution_count": 6,
   "metadata": {},
   "outputs": [
    {
     "data": {
      "text/plain": [
       "(54, 153)"
      ]
     },
     "execution_count": 6,
     "metadata": {},
     "output_type": "execute_result"
    }
   ],
   "source": [
    "mbsr_data.shape"
   ]
  },
  {
   "cell_type": "markdown",
   "metadata": {},
   "source": [
    "Create columns for change in outcome\n",
    "\n",
    "Beck anxiety:"
   ]
  },
  {
   "cell_type": "code",
   "execution_count": 7,
   "metadata": {},
   "outputs": [
    {
     "data": {
      "image/png": "[encoded data removed]",
      "text/plain": [
       "<matplotlib.figure.Figure at 0x124df8c88>"
      ]
     },
     "metadata": {},
     "output_type": "display_data"
    }
   ],
   "source": [
    "mbsr_data['beckanx_diff3'] = mbsr_data['beckanxT3'] - mbsr_data['beckanxT1']\n",
    "g = sns.FacetGrid(mbsr_data, col='group_')\n",
    "g.map(plt.hist, 'beckanx_diff3');"
   ]
  },
  {
   "cell_type": "markdown",
   "metadata": {},
   "source": [
    "PSI:"
   ]
  },
  {
   "cell_type": "code",
   "execution_count": 8,
   "metadata": {},
   "outputs": [
    {
     "data": {
      "image/png": "[encoded data removed]",
      "text/plain": [
       "<matplotlib.figure.Figure at 0x1254685f8>"
      ]
     },
     "metadata": {},
     "output_type": "display_data"
    }
   ],
   "source": [
    "mbsr_data['psi_diff3'] = mbsr_data['psitot3'] - mbsr_data['psitot']\n",
    "g = sns.FacetGrid(mbsr_data, col='group_')\n",
    "g.map(plt.hist, 'psi_diff3');"
   ]
  },
  {
   "cell_type": "markdown",
   "metadata": {},
   "source": [
    "parent-child dysfunctional interaction"
   ]
  },
  {
   "cell_type": "code",
   "execution_count": 9,
   "metadata": {},
   "outputs": [
    {
     "data": {
      "image/png": "[encoded data removed]",
      "text/plain": [
       "<matplotlib.figure.Figure at 0x1259020f0>"
      ]
     },
     "metadata": {},
     "output_type": "display_data"
    }
   ],
   "source": [
    "mbsr_data['psipcdi_diff3'] = mbsr_data['psipcdi3'] - mbsr_data['psipcdi']\n",
    "g = sns.FacetGrid(mbsr_data, col='group_')\n",
    "g.map(plt.hist, 'psipcdi_diff3');"
   ]
  },
  {
   "cell_type": "markdown",
   "metadata": {},
   "source": [
    "Depression:"
   ]
  },
  {
   "cell_type": "code",
   "execution_count": 10,
   "metadata": {},
   "outputs": [
    {
     "data": {
      "image/png": "[encoded data removed]",
      "text/plain": [
       "<matplotlib.figure.Figure at 0x1259bbd30>"
      ]
     },
     "metadata": {},
     "output_type": "display_data"
    }
   ],
   "source": [
    "mbsr_data['cesdt_diff3'] = mbsr_data['cesdt3'] - mbsr_data['cesdt1']\n",
    "g = sns.FacetGrid(mbsr_data, col='group_')\n",
    "g.map(plt.hist, 'cesdt_diff3');"
   ]
  },
  {
   "cell_type": "code",
   "execution_count": 11,
   "metadata": {},
   "outputs": [
    {
     "data": {
      "image/png": "[encoded data removed]",
      "text/plain": [
       "<matplotlib.figure.Figure at 0x12538db00>"
      ]
     },
     "metadata": {},
     "output_type": "display_data"
    }
   ],
   "source": [
    "pd.plotting.scatter_matrix(mbsr_data[['expressiveraw', 'ados_new_algorithm', 'age_ados']]);"
   ]
  },
  {
   "cell_type": "markdown",
   "metadata": {},
   "source": [
    "## Model specification"
   ]
  },
  {
   "cell_type": "code",
   "execution_count": 12,
   "metadata": {},
   "outputs": [],
   "source": [
    "def create_outcome_model(outcome, cols, dataset=mbsr_data, center=True):\n",
    "    \n",
    "    _dataset = dataset.dropna(subset=[outcome]+cols).copy()\n",
    "    \n",
    "    if center:\n",
    "        X = shared((_dataset[cols] - _dataset[cols].mean()).values)\n",
    "    else:\n",
    "        X = shared(_dataset[cols].values)\n",
    "    \n",
    "    y = shared(_dataset[outcome].values)\n",
    "    \n",
    "    \n",
    "    with pm.Model() as mod:\n",
    "        \n",
    "        # Mean effect at covariate baselines\n",
    "        μ = pm.Normal('μ', 0, sd=10)\n",
    "        \n",
    "        # Covariate coefficients\n",
    "        β = pm.Normal('β', 0, sd=5, shape=len(cols))\n",
    "        \n",
    "        # Expected outcome\n",
    "        θ = μ + tt.dot(X, β)\n",
    "\n",
    "        # Error\n",
    "        σ = pm.HalfCauchy('σ', 1)\n",
    "        obs_diff = pm.Normal('obs_diff', θ, sd=σ, observed=y)\n",
    "        \n",
    "    return mod"
   ]
  },
  {
   "cell_type": "markdown",
   "metadata": {},
   "source": [
    "### PSIPCDI model\n",
    "\n",
    "Create model with specified covariates and `psipcdi_diff3` outcome"
   ]
  },
  {
   "cell_type": "code",
   "execution_count": 13,
   "metadata": {},
   "outputs": [],
   "source": [
    "model_psipcdi = create_outcome_model('psipcdi_diff3', ['expressiveraw', 'ados_new_algorithm'])"
   ]
  },
  {
   "cell_type": "markdown",
   "metadata": {},
   "source": [
    "Fit the model using MCMC"
   ]
  },
  {
   "cell_type": "code",
   "execution_count": 14,
   "metadata": {},
   "outputs": [
    {
     "name": "stderr",
     "output_type": "stream",
     "text": [
      "Auto-assigning NUTS sampler...\n",
      "Initializing NUTS using jitter+adapt_diag...\n",
      "Multiprocess sampling (2 chains in 2 jobs)\n",
      "NUTS: [σ_log__, β, μ]\n",
      "100%|██████████| 3000/3000 [00:04<00:00, 741.89it/s] \n"
     ]
    }
   ],
   "source": [
    "with model_psipcdi:\n",
    "    \n",
    "    trace_psipcdi = pm.sample(1000, tune=2000)"
   ]
  },
  {
   "cell_type": "markdown",
   "metadata": {},
   "source": [
    "These are posterior estimates of parameters. $\\mu$ is the treatement effect at mean values of covariates, while the $\\beta$ values are the covariate effects (here, expressive language and ADOS). The green lines indicate zero, so you can see that the treatment effect is negative with more than 99% probability."
   ]
  },
  {
   "cell_type": "code",
   "execution_count": 15,
   "metadata": {
    "scrolled": false
   },
   "outputs": [
    {
     "data": {
      "image/png": "[encoded data removed]",
      "text/plain": [
       "<matplotlib.figure.Figure at 0x12a59eb38>"
      ]
     },
     "metadata": {},
     "output_type": "display_data"
    }
   ],
   "source": [
    "pm.plot_posterior(trace_psipcdi, varnames=['μ', 'β'], ref_val=0)\n",
    "plt.tight_layout()"
   ]
  },
  {
   "cell_type": "code",
   "execution_count": 16,
   "metadata": {},
   "outputs": [
    {
     "data": {
      "text/html": [
       "<div>\n",
       "<style scoped>\n",
       "    .dataframe tbody tr th:only-of-type {\n",
       "        vertical-align: middle;\n",
       "    }\n",
       "\n",
       "    .dataframe tbody tr th {\n",
       "        vertical-align: top;\n",
       "    }\n",
       "\n",
       "    .dataframe thead th {\n",
       "        text-align: right;\n",
       "    }\n",
       "</style>\n",
       "<table border=\"1\" class=\"dataframe\">\n",
       "  <thead>\n",
       "    <tr style=\"text-align: right;\">\n",
       "      <th></th>\n",
       "      <th>mean</th>\n",
       "      <th>sd</th>\n",
       "      <th>mc_error</th>\n",
       "      <th>hpd_2.5</th>\n",
       "      <th>hpd_97.5</th>\n",
       "      <th>n_eff</th>\n",
       "      <th>Rhat</th>\n",
       "    </tr>\n",
       "  </thead>\n",
       "  <tbody>\n",
       "    <tr>\n",
       "      <th>μ</th>\n",
       "      <td>-2.59</td>\n",
       "      <td>0.96</td>\n",
       "      <td>0.02</td>\n",
       "      <td>-4.35</td>\n",
       "      <td>-0.60</td>\n",
       "      <td>2710.37</td>\n",
       "      <td>1.0</td>\n",
       "    </tr>\n",
       "    <tr>\n",
       "      <th>β__0</th>\n",
       "      <td>0.10</td>\n",
       "      <td>0.09</td>\n",
       "      <td>0.00</td>\n",
       "      <td>-0.09</td>\n",
       "      <td>0.26</td>\n",
       "      <td>1459.33</td>\n",
       "      <td>1.0</td>\n",
       "    </tr>\n",
       "    <tr>\n",
       "      <th>β__1</th>\n",
       "      <td>0.40</td>\n",
       "      <td>0.25</td>\n",
       "      <td>0.01</td>\n",
       "      <td>-0.05</td>\n",
       "      <td>0.92</td>\n",
       "      <td>1280.34</td>\n",
       "      <td>1.0</td>\n",
       "    </tr>\n",
       "    <tr>\n",
       "      <th>σ</th>\n",
       "      <td>6.21</td>\n",
       "      <td>0.71</td>\n",
       "      <td>0.01</td>\n",
       "      <td>4.89</td>\n",
       "      <td>7.55</td>\n",
       "      <td>2085.74</td>\n",
       "      <td>1.0</td>\n",
       "    </tr>\n",
       "  </tbody>\n",
       "</table>\n",
       "</div>"
      ],
      "text/plain": [
       "      mean    sd  mc_error  hpd_2.5  hpd_97.5    n_eff  Rhat\n",
       "μ    -2.59  0.96      0.02    -4.35     -0.60  2710.37   1.0\n",
       "β__0  0.10  0.09      0.00    -0.09      0.26  1459.33   1.0\n",
       "β__1  0.40  0.25      0.01    -0.05      0.92  1280.34   1.0\n",
       "σ     6.21  0.71      0.01     4.89      7.55  2085.74   1.0"
      ]
     },
     "execution_count": 16,
     "metadata": {},
     "output_type": "execute_result"
    }
   ],
   "source": [
    "pm.summary(trace_psipcdi).round(2)"
   ]
  },
  {
   "cell_type": "markdown",
   "metadata": {},
   "source": [
    "The following cells are just model checks to see if there is lack of convergence, or poor model fit."
   ]
  },
  {
   "cell_type": "code",
   "execution_count": 17,
   "metadata": {},
   "outputs": [
    {
     "data": {
      "text/plain": [
       "<matplotlib.axes._subplots.AxesSubplot at 0x12689cba8>"
      ]
     },
     "execution_count": 17,
     "metadata": {},
     "output_type": "execute_result"
    },
    {
     "data": {
      "image/png": "[encoded data removed]",
      "text/plain": [
       "<matplotlib.figure.Figure at 0x125f6dbe0>"
      ]
     },
     "metadata": {},
     "output_type": "display_data"
    }
   ],
   "source": [
    "pm.energyplot(trace_psipcdi)"
   ]
  },
  {
   "cell_type": "code",
   "execution_count": 18,
   "metadata": {},
   "outputs": [
    {
     "name": "stderr",
     "output_type": "stream",
     "text": [
      "100%|██████████| 500/500 [00:00<00:00, 1739.22it/s]\n"
     ]
    }
   ],
   "source": [
    "ppc_psipcdi = pm.sample_ppc(trace_psipcdi, samples=500, model=model_psipcdi)"
   ]
  },
  {
   "cell_type": "code",
   "execution_count": 19,
   "metadata": {},
   "outputs": [
    {
     "data": {
      "text/plain": [
       "(array([2., 3., 8., 4., 4., 7., 5., 6., 1., 5.]),\n",
       " array([0. , 0.1, 0.2, 0.3, 0.4, 0.5, 0.6, 0.7, 0.8, 0.9, 1. ]),\n",
       " <a list of 10 Patch objects>)"
      ]
     },
     "execution_count": 19,
     "metadata": {},
     "output_type": "execute_result"
    },
    {
     "data": {
      "image/png": "[encoded data removed]",
      "text/plain": [
       "<matplotlib.figure.Figure at 0x12a0a0470>"
      ]
     },
     "metadata": {},
     "output_type": "display_data"
    }
   ],
   "source": [
    "from scipy.stats import percentileofscore\n",
    "\n",
    "plt.hist([np.round(percentileofscore(x, y)/100, 2) for x, y in zip(ppc_psipcdi['obs_diff'], \n",
    "                                                                   mbsr_data.psipcdi_diff3.dropna().values)])"
   ]
  },
  {
   "cell_type": "markdown",
   "metadata": {},
   "source": [
    "### PSI model\n",
    "\n",
    "Instantiate model with `psi_diff3` outcome"
   ]
  },
  {
   "cell_type": "code",
   "execution_count": 20,
   "metadata": {},
   "outputs": [],
   "source": [
    "model_psi = create_outcome_model('psi_diff3', ['expressiveraw', 'ados_new_algorithm'])"
   ]
  },
  {
   "cell_type": "markdown",
   "metadata": {},
   "source": [
    "Fit model with MCMC"
   ]
  },
  {
   "cell_type": "code",
   "execution_count": 21,
   "metadata": {},
   "outputs": [
    {
     "name": "stderr",
     "output_type": "stream",
     "text": [
      "Auto-assigning NUTS sampler...\n",
      "Initializing NUTS using jitter+adapt_diag...\n",
      "Multiprocess sampling (2 chains in 2 jobs)\n",
      "NUTS: [σ_log__, β, μ]\n",
      "100%|██████████| 3000/3000 [00:04<00:00, 699.86it/s] \n"
     ]
    }
   ],
   "source": [
    "with model_psi:\n",
    "    \n",
    "    trace_psi = pm.sample(1000, tune=2000)"
   ]
  },
  {
   "cell_type": "markdown",
   "metadata": {},
   "source": [
    "Posterior estimates"
   ]
  },
  {
   "cell_type": "code",
   "execution_count": 22,
   "metadata": {},
   "outputs": [
    {
     "data": {
      "image/png": "[encoded data removed]",
      "text/plain": [
       "<matplotlib.figure.Figure at 0x12b2399e8>"
      ]
     },
     "metadata": {},
     "output_type": "display_data"
    }
   ],
   "source": [
    "pm.plot_posterior(trace_psi, varnames=['μ', 'β'], ref_val=0);"
   ]
  },
  {
   "cell_type": "code",
   "execution_count": 23,
   "metadata": {},
   "outputs": [
    {
     "data": {
      "text/html": [
       "<div>\n",
       "<style scoped>\n",
       "    .dataframe tbody tr th:only-of-type {\n",
       "        vertical-align: middle;\n",
       "    }\n",
       "\n",
       "    .dataframe tbody tr th {\n",
       "        vertical-align: top;\n",
       "    }\n",
       "\n",
       "    .dataframe thead th {\n",
       "        text-align: right;\n",
       "    }\n",
       "</style>\n",
       "<table border=\"1\" class=\"dataframe\">\n",
       "  <thead>\n",
       "    <tr style=\"text-align: right;\">\n",
       "      <th></th>\n",
       "      <th>mean</th>\n",
       "      <th>sd</th>\n",
       "      <th>mc_error</th>\n",
       "      <th>hpd_2.5</th>\n",
       "      <th>hpd_97.5</th>\n",
       "      <th>n_eff</th>\n",
       "      <th>Rhat</th>\n",
       "    </tr>\n",
       "  </thead>\n",
       "  <tbody>\n",
       "    <tr>\n",
       "      <th>μ</th>\n",
       "      <td>-7.64</td>\n",
       "      <td>1.90</td>\n",
       "      <td>0.04</td>\n",
       "      <td>-11.22</td>\n",
       "      <td>-3.89</td>\n",
       "      <td>3044.65</td>\n",
       "      <td>1.0</td>\n",
       "    </tr>\n",
       "    <tr>\n",
       "      <th>β__0</th>\n",
       "      <td>0.18</td>\n",
       "      <td>0.19</td>\n",
       "      <td>0.01</td>\n",
       "      <td>-0.20</td>\n",
       "      <td>0.56</td>\n",
       "      <td>1487.35</td>\n",
       "      <td>1.0</td>\n",
       "    </tr>\n",
       "    <tr>\n",
       "      <th>β__1</th>\n",
       "      <td>-0.27</td>\n",
       "      <td>0.54</td>\n",
       "      <td>0.02</td>\n",
       "      <td>-1.39</td>\n",
       "      <td>0.75</td>\n",
       "      <td>1228.54</td>\n",
       "      <td>1.0</td>\n",
       "    </tr>\n",
       "    <tr>\n",
       "      <th>σ</th>\n",
       "      <td>12.83</td>\n",
       "      <td>1.51</td>\n",
       "      <td>0.03</td>\n",
       "      <td>10.30</td>\n",
       "      <td>16.15</td>\n",
       "      <td>2051.26</td>\n",
       "      <td>1.0</td>\n",
       "    </tr>\n",
       "  </tbody>\n",
       "</table>\n",
       "</div>"
      ],
      "text/plain": [
       "       mean    sd  mc_error  hpd_2.5  hpd_97.5    n_eff  Rhat\n",
       "μ     -7.64  1.90      0.04   -11.22     -3.89  3044.65   1.0\n",
       "β__0   0.18  0.19      0.01    -0.20      0.56  1487.35   1.0\n",
       "β__1  -0.27  0.54      0.02    -1.39      0.75  1228.54   1.0\n",
       "σ     12.83  1.51      0.03    10.30     16.15  2051.26   1.0"
      ]
     },
     "execution_count": 23,
     "metadata": {},
     "output_type": "execute_result"
    }
   ],
   "source": [
    "pm.summary(trace_psi).round(2)"
   ]
  },
  {
   "cell_type": "markdown",
   "metadata": {},
   "source": [
    "Model checking"
   ]
  },
  {
   "cell_type": "code",
   "execution_count": 24,
   "metadata": {},
   "outputs": [
    {
     "data": {
      "text/plain": [
       "<matplotlib.axes._subplots.AxesSubplot at 0x12a537b38>"
      ]
     },
     "execution_count": 24,
     "metadata": {},
     "output_type": "execute_result"
    },
    {
     "data": {
      "image/png": "[encoded data removed]",
      "text/plain": [
       "<matplotlib.figure.Figure at 0x126140cc0>"
      ]
     },
     "metadata": {},
     "output_type": "display_data"
    }
   ],
   "source": [
    "pm.energyplot(trace_psi)"
   ]
  },
  {
   "cell_type": "code",
   "execution_count": 25,
   "metadata": {
    "scrolled": true
   },
   "outputs": [
    {
     "name": "stderr",
     "output_type": "stream",
     "text": [
      "100%|██████████| 500/500 [00:00<00:00, 1870.10it/s]\n"
     ]
    }
   ],
   "source": [
    "ppc_psi = pm.sample_ppc(trace_psi, samples=500, model=model_psi)"
   ]
  },
  {
   "cell_type": "code",
   "execution_count": 26,
   "metadata": {},
   "outputs": [
    {
     "data": {
      "text/plain": [
       "(array([9., 3., 6., 4., 4., 2., 1., 6., 5., 5.]),\n",
       " array([0.05 , 0.143, 0.236, 0.329, 0.422, 0.515, 0.608, 0.701, 0.794,\n",
       "        0.887, 0.98 ]),\n",
       " <a list of 10 Patch objects>)"
      ]
     },
     "execution_count": 26,
     "metadata": {},
     "output_type": "execute_result"
    },
    {
     "data": {
      "image/png": "[encoded data removed]",
      "text/plain": [
       "<matplotlib.figure.Figure at 0x12a7d0be0>"
      ]
     },
     "metadata": {},
     "output_type": "display_data"
    }
   ],
   "source": [
    "plt.hist([np.round(percentileofscore(x, y)/100, 2) for x, y in zip(ppc_psi['obs_diff'], \n",
    "                                                                   mbsr_data.psi_diff3.dropna().values)])"
   ]
  },
  {
   "cell_type": "markdown",
   "metadata": {},
   "source": [
    "### Beck anxiety model\n",
    "\n",
    "Instantiate model with `beckanx_diff3` as outcome."
   ]
  },
  {
   "cell_type": "code",
   "execution_count": 27,
   "metadata": {},
   "outputs": [],
   "source": [
    "model_beck = create_outcome_model('beckanx_diff3', ['expressiveraw', 'ados_new_algorithm'])"
   ]
  },
  {
   "cell_type": "markdown",
   "metadata": {},
   "source": [
    "Fit model with MCMC"
   ]
  },
  {
   "cell_type": "code",
   "execution_count": 28,
   "metadata": {},
   "outputs": [
    {
     "name": "stderr",
     "output_type": "stream",
     "text": [
      "Auto-assigning NUTS sampler...\n",
      "Initializing NUTS using jitter+adapt_diag...\n",
      "Multiprocess sampling (2 chains in 2 jobs)\n",
      "NUTS: [σ_log__, β, μ]\n",
      "100%|██████████| 3000/3000 [00:03<00:00, 897.25it/s] \n"
     ]
    }
   ],
   "source": [
    "with model_beck:\n",
    "    \n",
    "    trace_beck = pm.sample(1000, tune=2000)"
   ]
  },
  {
   "cell_type": "markdown",
   "metadata": {},
   "source": [
    "Posterior estimates"
   ]
  },
  {
   "cell_type": "code",
   "execution_count": 29,
   "metadata": {},
   "outputs": [
    {
     "data": {
      "image/png": "[encoded data removed]",
      "text/plain": [
       "<matplotlib.figure.Figure at 0x125e73550>"
      ]
     },
     "metadata": {},
     "output_type": "display_data"
    }
   ],
   "source": [
    "pm.plot_posterior(trace_beck, varnames=['μ', 'β'], ref_val=0);"
   ]
  },
  {
   "cell_type": "code",
   "execution_count": 30,
   "metadata": {},
   "outputs": [
    {
     "data": {
      "text/html": [
       "<div>\n",
       "<style scoped>\n",
       "    .dataframe tbody tr th:only-of-type {\n",
       "        vertical-align: middle;\n",
       "    }\n",
       "\n",
       "    .dataframe tbody tr th {\n",
       "        vertical-align: top;\n",
       "    }\n",
       "\n",
       "    .dataframe thead th {\n",
       "        text-align: right;\n",
       "    }\n",
       "</style>\n",
       "<table border=\"1\" class=\"dataframe\">\n",
       "  <thead>\n",
       "    <tr style=\"text-align: right;\">\n",
       "      <th></th>\n",
       "      <th>mean</th>\n",
       "      <th>sd</th>\n",
       "      <th>mc_error</th>\n",
       "      <th>hpd_2.5</th>\n",
       "      <th>hpd_97.5</th>\n",
       "      <th>n_eff</th>\n",
       "      <th>Rhat</th>\n",
       "    </tr>\n",
       "  </thead>\n",
       "  <tbody>\n",
       "    <tr>\n",
       "      <th>μ</th>\n",
       "      <td>-2.13</td>\n",
       "      <td>0.94</td>\n",
       "      <td>0.02</td>\n",
       "      <td>-3.89</td>\n",
       "      <td>-0.28</td>\n",
       "      <td>2676.30</td>\n",
       "      <td>1.0</td>\n",
       "    </tr>\n",
       "    <tr>\n",
       "      <th>β__0</th>\n",
       "      <td>-0.07</td>\n",
       "      <td>0.09</td>\n",
       "      <td>0.00</td>\n",
       "      <td>-0.26</td>\n",
       "      <td>0.09</td>\n",
       "      <td>1032.04</td>\n",
       "      <td>1.0</td>\n",
       "    </tr>\n",
       "    <tr>\n",
       "      <th>β__1</th>\n",
       "      <td>0.02</td>\n",
       "      <td>0.26</td>\n",
       "      <td>0.01</td>\n",
       "      <td>-0.47</td>\n",
       "      <td>0.54</td>\n",
       "      <td>1291.82</td>\n",
       "      <td>1.0</td>\n",
       "    </tr>\n",
       "    <tr>\n",
       "      <th>σ</th>\n",
       "      <td>6.28</td>\n",
       "      <td>0.71</td>\n",
       "      <td>0.02</td>\n",
       "      <td>4.94</td>\n",
       "      <td>7.66</td>\n",
       "      <td>1524.36</td>\n",
       "      <td>1.0</td>\n",
       "    </tr>\n",
       "  </tbody>\n",
       "</table>\n",
       "</div>"
      ],
      "text/plain": [
       "      mean    sd  mc_error  hpd_2.5  hpd_97.5    n_eff  Rhat\n",
       "μ    -2.13  0.94      0.02    -3.89     -0.28  2676.30   1.0\n",
       "β__0 -0.07  0.09      0.00    -0.26      0.09  1032.04   1.0\n",
       "β__1  0.02  0.26      0.01    -0.47      0.54  1291.82   1.0\n",
       "σ     6.28  0.71      0.02     4.94      7.66  1524.36   1.0"
      ]
     },
     "execution_count": 30,
     "metadata": {},
     "output_type": "execute_result"
    }
   ],
   "source": [
    "pm.summary(trace_beck).round(2)"
   ]
  },
  {
   "cell_type": "markdown",
   "metadata": {},
   "source": [
    "Model checking"
   ]
  },
  {
   "cell_type": "code",
   "execution_count": 31,
   "metadata": {},
   "outputs": [
    {
     "data": {
      "text/plain": [
       "<matplotlib.axes._subplots.AxesSubplot at 0x12a46b5c0>"
      ]
     },
     "execution_count": 31,
     "metadata": {},
     "output_type": "execute_result"
    },
    {
     "data": {
      "image/png": "[encoded data removed]",
      "text/plain": [
       "<matplotlib.figure.Figure at 0x12b8fef98>"
      ]
     },
     "metadata": {},
     "output_type": "display_data"
    }
   ],
   "source": [
    "pm.energyplot(trace_beck)"
   ]
  },
  {
   "cell_type": "code",
   "execution_count": 32,
   "metadata": {},
   "outputs": [
    {
     "name": "stderr",
     "output_type": "stream",
     "text": [
      "100%|██████████| 500/500 [00:00<00:00, 2139.72it/s]\n"
     ]
    }
   ],
   "source": [
    "ppc_beck = pm.sample_ppc(trace_beck, samples=500, model=model_beck)"
   ]
  },
  {
   "cell_type": "code",
   "execution_count": 33,
   "metadata": {},
   "outputs": [
    {
     "data": {
      "text/plain": [
       "(array([ 4.,  6.,  3.,  0.,  7.,  6.,  4., 10.,  0.,  5.]),\n",
       " array([0. , 0.1, 0.2, 0.3, 0.4, 0.5, 0.6, 0.7, 0.8, 0.9, 1. ]),\n",
       " <a list of 10 Patch objects>)"
      ]
     },
     "execution_count": 33,
     "metadata": {},
     "output_type": "execute_result"
    },
    {
     "data": {
      "image/png": "[encoded data removed]",
      "text/plain": [
       "<matplotlib.figure.Figure at 0x12a6814e0>"
      ]
     },
     "metadata": {},
     "output_type": "display_data"
    }
   ],
   "source": [
    "plt.hist([np.round(percentileofscore(x, y)/100, 2) for x, y in zip(ppc_beck['obs_diff'], \n",
    "                                                                   mbsr_data.beckanx_diff3.dropna().values)])"
   ]
  },
  {
   "cell_type": "markdown",
   "metadata": {},
   "source": [
    "### CESDT model\n",
    "\n",
    "Instantiate model with `cesdt_diff3` as outcome variable."
   ]
  },
  {
   "cell_type": "code",
   "execution_count": 34,
   "metadata": {},
   "outputs": [],
   "source": [
    "model_cesdt = create_outcome_model('cesdt_diff3', ['expressiveraw', 'ados_new_algorithm'])"
   ]
  },
  {
   "cell_type": "markdown",
   "metadata": {},
   "source": [
    "Fit model using MCMC"
   ]
  },
  {
   "cell_type": "code",
   "execution_count": 35,
   "metadata": {},
   "outputs": [
    {
     "name": "stderr",
     "output_type": "stream",
     "text": [
      "Auto-assigning NUTS sampler...\n",
      "Initializing NUTS using jitter+adapt_diag...\n",
      "Multiprocess sampling (2 chains in 2 jobs)\n",
      "NUTS: [σ_log__, β, μ]\n",
      "100%|██████████| 3000/3000 [00:05<00:00, 577.25it/s]\n"
     ]
    }
   ],
   "source": [
    "with model_cesdt:\n",
    "    \n",
    "    trace_cesdt = pm.sample(1000, tune=2000)"
   ]
  },
  {
   "cell_type": "markdown",
   "metadata": {},
   "source": [
    "Posterior estimates"
   ]
  },
  {
   "cell_type": "code",
   "execution_count": 36,
   "metadata": {},
   "outputs": [
    {
     "data": {
      "image/png": "[encoded data removed]",
      "text/plain": [
       "<matplotlib.figure.Figure at 0x12c1db588>"
      ]
     },
     "metadata": {},
     "output_type": "display_data"
    }
   ],
   "source": [
    "pm.plot_posterior(trace_cesdt, varnames=['μ', 'β'], ref_val=0);"
   ]
  },
  {
   "cell_type": "code",
   "execution_count": 37,
   "metadata": {},
   "outputs": [
    {
     "data": {
      "text/html": [
       "<div>\n",
       "<style scoped>\n",
       "    .dataframe tbody tr th:only-of-type {\n",
       "        vertical-align: middle;\n",
       "    }\n",
       "\n",
       "    .dataframe tbody tr th {\n",
       "        vertical-align: top;\n",
       "    }\n",
       "\n",
       "    .dataframe thead th {\n",
       "        text-align: right;\n",
       "    }\n",
       "</style>\n",
       "<table border=\"1\" class=\"dataframe\">\n",
       "  <thead>\n",
       "    <tr style=\"text-align: right;\">\n",
       "      <th></th>\n",
       "      <th>mean</th>\n",
       "      <th>sd</th>\n",
       "      <th>mc_error</th>\n",
       "      <th>hpd_2.5</th>\n",
       "      <th>hpd_97.5</th>\n",
       "      <th>n_eff</th>\n",
       "      <th>Rhat</th>\n",
       "    </tr>\n",
       "  </thead>\n",
       "  <tbody>\n",
       "    <tr>\n",
       "      <th>μ</th>\n",
       "      <td>-2.11</td>\n",
       "      <td>0.88</td>\n",
       "      <td>0.02</td>\n",
       "      <td>-3.80</td>\n",
       "      <td>-0.38</td>\n",
       "      <td>2618.39</td>\n",
       "      <td>1.0</td>\n",
       "    </tr>\n",
       "    <tr>\n",
       "      <th>β__0</th>\n",
       "      <td>0.03</td>\n",
       "      <td>0.09</td>\n",
       "      <td>0.00</td>\n",
       "      <td>-0.14</td>\n",
       "      <td>0.20</td>\n",
       "      <td>1333.54</td>\n",
       "      <td>1.0</td>\n",
       "    </tr>\n",
       "    <tr>\n",
       "      <th>β__1</th>\n",
       "      <td>0.24</td>\n",
       "      <td>0.24</td>\n",
       "      <td>0.01</td>\n",
       "      <td>-0.18</td>\n",
       "      <td>0.77</td>\n",
       "      <td>1633.92</td>\n",
       "      <td>1.0</td>\n",
       "    </tr>\n",
       "    <tr>\n",
       "      <th>σ</th>\n",
       "      <td>5.82</td>\n",
       "      <td>0.66</td>\n",
       "      <td>0.01</td>\n",
       "      <td>4.60</td>\n",
       "      <td>7.10</td>\n",
       "      <td>2049.93</td>\n",
       "      <td>1.0</td>\n",
       "    </tr>\n",
       "  </tbody>\n",
       "</table>\n",
       "</div>"
      ],
      "text/plain": [
       "      mean    sd  mc_error  hpd_2.5  hpd_97.5    n_eff  Rhat\n",
       "μ    -2.11  0.88      0.02    -3.80     -0.38  2618.39   1.0\n",
       "β__0  0.03  0.09      0.00    -0.14      0.20  1333.54   1.0\n",
       "β__1  0.24  0.24      0.01    -0.18      0.77  1633.92   1.0\n",
       "σ     5.82  0.66      0.01     4.60      7.10  2049.93   1.0"
      ]
     },
     "execution_count": 37,
     "metadata": {},
     "output_type": "execute_result"
    }
   ],
   "source": [
    "pm.summary(trace_cesdt).round(2)"
   ]
  },
  {
   "cell_type": "markdown",
   "metadata": {},
   "source": [
    "Model checking"
   ]
  },
  {
   "cell_type": "code",
   "execution_count": 38,
   "metadata": {},
   "outputs": [
    {
     "data": {
      "text/plain": [
       "<matplotlib.axes._subplots.AxesSubplot at 0x12c20b358>"
      ]
     },
     "execution_count": 38,
     "metadata": {},
     "output_type": "execute_result"
    },
    {
     "data": {
      "image/png": "[encoded data removed]",
      "text/plain": [
       "<matplotlib.figure.Figure at 0x12b3c6f98>"
      ]
     },
     "metadata": {},
     "output_type": "display_data"
    }
   ],
   "source": [
    "pm.energyplot(trace_cesdt)"
   ]
  },
  {
   "cell_type": "code",
   "execution_count": 39,
   "metadata": {},
   "outputs": [
    {
     "name": "stderr",
     "output_type": "stream",
     "text": [
      "100%|██████████| 500/500 [00:00<00:00, 2785.20it/s]\n"
     ]
    }
   ],
   "source": [
    "ppc_cesdt = pm.sample_ppc(trace_cesdt, samples=500, model=model_beck)"
   ]
  },
  {
   "cell_type": "code",
   "execution_count": 40,
   "metadata": {},
   "outputs": [
    {
     "data": {
      "text/plain": [
       "(array([ 4.,  2.,  1.,  2.,  7., 10.,  6.,  8.,  3.,  1.]),\n",
       " array([0.   , 0.098, 0.196, 0.294, 0.392, 0.49 , 0.588, 0.686, 0.784,\n",
       "        0.882, 0.98 ]),\n",
       " <a list of 10 Patch objects>)"
      ]
     },
     "execution_count": 40,
     "metadata": {},
     "output_type": "execute_result"
    },
    {
     "data": {
      "image/png": "[encoded data removed]",
      "text/plain": [
       "<matplotlib.figure.Figure at 0x12bc2def0>"
      ]
     },
     "metadata": {},
     "output_type": "display_data"
    }
   ],
   "source": [
    "plt.hist([np.round(percentileofscore(x, y)/100, 2) for x, y in zip(ppc_cesdt['obs_diff'], \n",
    "                                                                   mbsr_data.cesdt_diff3.dropna().values)])"
   ]
  }
 ],
 "metadata": {
  "kernelspec": {
   "display_name": "Python 3",
   "language": "python",
   "name": "python3"
  },
  "language_info": {
   "codemirror_mode": {
    "name": "ipython",
    "version": 3
   },
   "file_extension": ".py",
   "mimetype": "text/x-python",
   "name": "python",
   "nbconvert_exporter": "python",
   "pygments_lexer": "ipython3",
   "version": "3.6.1"
  }
 },
 "nbformat": 4,
 "nbformat_minor": 2
}
